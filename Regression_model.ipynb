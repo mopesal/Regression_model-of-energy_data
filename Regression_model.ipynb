{
 "cells": [
  {
   "cell_type": "code",
   "execution_count": 117,
   "id": "99d16cb7-8eb7-40b1-a9a3-80512758c0f8",
   "metadata": {},
   "outputs": [],
   "source": [
    "import pandas as pd\n",
    "import numpy as np\n",
    "import seaborn as sns\n",
    "import matplotlib.pyplot as plt\n",
    "from sklearn.linear_model import LinearRegression,Ridge,Lasso\n",
    "from sklearn.model_selection import train_test_split\n",
    "from sklearn.metrics import r2_score, mean_squared_error,mean_absolute_error\n",
    "from sklearn.preprocessing import MinMaxScaler"
   ]
  },
  {
   "cell_type": "code",
   "execution_count": 143,
   "id": "f65e47b4-758a-41cf-8d46-1adb10ae015f",
   "metadata": {},
   "outputs": [
    {
     "name": "stdout",
     "output_type": "stream",
     "text": [
      "                  date  Appliances  lights     T1       RH_1    T2       RH_2  \\\n",
      "0  2016-01-11 17:00:00          60      30  19.89  47.596667  19.2  44.790000   \n",
      "1  2016-01-11 17:10:00          60      30  19.89  46.693333  19.2  44.722500   \n",
      "2  2016-01-11 17:20:00          50      30  19.89  46.300000  19.2  44.626667   \n",
      "3  2016-01-11 17:30:00          50      40  19.89  46.066667  19.2  44.590000   \n",
      "4  2016-01-11 17:40:00          60      40  19.89  46.333333  19.2  44.530000   \n",
      "\n",
      "      T3       RH_3         T4  ...         T9   RH_9     T_out  Press_mm_hg  \\\n",
      "0  19.79  44.730000  19.000000  ...  17.033333  45.53  6.600000        733.5   \n",
      "1  19.79  44.790000  19.000000  ...  17.066667  45.56  6.483333        733.6   \n",
      "2  19.79  44.933333  18.926667  ...  17.000000  45.50  6.366667        733.7   \n",
      "3  19.79  45.000000  18.890000  ...  17.000000  45.40  6.250000        733.8   \n",
      "4  19.79  45.000000  18.890000  ...  17.000000  45.40  6.133333        733.9   \n",
      "\n",
      "   RH_out  Windspeed  Visibility  Tdewpoint        rv1        rv2  \n",
      "0    92.0   7.000000   63.000000        5.3  13.275433  13.275433  \n",
      "1    92.0   6.666667   59.166667        5.2  18.606195  18.606195  \n",
      "2    92.0   6.333333   55.333333        5.1  28.642668  28.642668  \n",
      "3    92.0   6.000000   51.500000        5.0  45.410389  45.410389  \n",
      "4    92.0   5.666667   47.666667        4.9  10.084097  10.084097  \n",
      "\n",
      "[5 rows x 29 columns]\n"
     ]
    }
   ],
   "source": [
    "# The dataframe\n",
    "energy_data = pd.read_csv('Desktop/Data science/Hamoye internship/energydata_complete.csv', encoding ='latin-1')\n",
    "print(energy_data.head())"
   ]
  },
  {
   "cell_type": "code",
   "execution_count": 144,
   "id": "29cf62c9-74b8-42cb-b4fa-699a386f16e4",
   "metadata": {},
   "outputs": [
    {
     "name": "stdout",
     "output_type": "stream",
     "text": [
      "Root mean squared error : 3.63\n"
     ]
    }
   ],
   "source": [
    "# Root mean squared error of the relationship between the temperature in the living room and outside.\n",
    "x = energy_data['T2'].values.reshape(-1,1)\n",
    "y= energy_data['T6'].values\n",
    "x_train,x_test,y_train,y_test = train_test_split(x,y,test_size=0.3,random_state=42)\n",
    "x_y = LinearRegression()\n",
    "x_y.fit(x_train,y_train)\n",
    "y_pred = x_y.predict(x_test)\n",
    "y_mse = mean_squared_error(y_test,y_pred)\n",
    "rmse = np.round(np.sqrt(y_mse),3)\n",
    "print('Root mean squared error : {}'.format(rmse))"
   ]
  },
  {
   "cell_type": "code",
   "execution_count": 146,
   "id": "f49dfb5e-e077-4953-a302-0b73b1e04484",
   "metadata": {},
   "outputs": [
    {
     "name": "stdout",
     "output_type": "stream",
     "text": [
      "Mean absolute error for the training set: 53.742\n",
      "Root mean squared error for the training set : 95.216\n"
     ]
    }
   ],
   "source": [
    "# Mean absolute error and root mean squared error for the training set\n",
    "x_v = energy_data.drop(['date','lights'],axis=1)\n",
    "x_df = x_v.drop('Appliances', axis=1)\n",
    "y_df = x_v['Appliances']\n",
    "x_train,x_test,y_train,y_test = train_test_split(x_df,y_df,test_size=0.3,random_state=42)\n",
    "norm = MinMaxScaler().fit(x_train)\n",
    "x_train_norm = norm.transform(x_train)\n",
    "x_test_norm = norm.transform(x_test)\n",
    "x_train_norm_df = pd.DataFrame(x_train_norm)\n",
    "reg = LinearRegression()\n",
    "reg.fit(x_train_norm_df,y_train)\n",
    "y_pred = reg.predict(x_train_norm)\n",
    "mae = np.round(mean_absolute_error(y_train,y_pred),3)\n",
    "rmse = np.round(mean_squared_error(y_train,y_pred,squared=False),3)\n",
    "print('Mean absolute error for the training set: {}'.format(mae))\n",
    "print('Root mean squared error for the training set : {}'.format(rmse))"
   ]
  },
  {
   "cell_type": "code",
   "execution_count": 147,
   "id": "56845af0-d896-4829-9395-138d3975c29a",
   "metadata": {},
   "outputs": [
    {
     "name": "stdout",
     "output_type": "stream",
     "text": [
      "Mean absolute error for the test set: 53.643\n",
      "Root mean squared error for the test set: 93.64\n"
     ]
    }
   ],
   "source": [
    "# Mean absolute error and root mean squared error for the test set\n",
    "x_v = energy_data.drop(['date','lights'],axis=1)\n",
    "x_df = x_v.drop('Appliances', axis=1)\n",
    "y_df = x_v['Appliances']\n",
    "x_train,x_test,y_train,y_test = train_test_split(x_df,y_df,test_size=0.3,random_state=42)\n",
    "norm = MinMaxScaler().fit(x_train)\n",
    "x_train_norm = norm.transform(x_train)\n",
    "x_test_norm = norm.transform(x_test)\n",
    "x_train_norm_df = pd.DataFrame(x_train_norm)\n",
    "reg = LinearRegression()\n",
    "reg.fit(x_train_norm_df,y_train)\n",
    "y_pred = reg.predict(x_test_norm)\n",
    "mae = np.round(mean_absolute_error(y_test,y_pred),3)\n",
    "rmse = np.round(mean_squared_error(y_test,y_pred,squared=False),3)\n",
    "print('Mean absolute error for the test set: {}'.format(mae))\n",
    "print('Root mean squared error for the test set: {}'.format(rmse))\n",
    "\n",
    "\n",
    "\n",
    "\n",
    "\n",
    "\n",
    "\n"
   ]
  },
  {
   "cell_type": "code",
   "execution_count": 148,
   "id": "d4ea0a97-6b02-424f-a568-5330a2a70fc5",
   "metadata": {},
   "outputs": [
    {
     "name": "stdout",
     "output_type": "stream",
     "text": [
      "Root mean squared of the ridge regression model is 93.641,the RMSEs of the ridge and linear regression models are the same.\n"
     ]
    }
   ],
   "source": [
    "#Ridge regression model with default parameters\n",
    "ridge = Ridge(alpha=1.0)\n",
    "ridge.fit(x_train,y_train)\n",
    "y_pred = ridge.predict(x_test)\n",
    "rmse = np.round(mean_squared_error(y_test,y_pred, squared=False),3)\n",
    "print('Root mean squared of the ridge regression model is {},the RMSEs of the ridge and linear regression models are the same.'.format(rmse))\n",
    "\n",
    "\n"
   ]
  },
  {
   "cell_type": "code",
   "execution_count": 149,
   "id": "ae344a15-3d71-4e8b-9531-f1b29a1fd452",
   "metadata": {},
   "outputs": [
    {
     "data": {
      "image/png": "[encoded data removed]",
      "text/plain": [
       "<Figure size 640x480 with 1 Axes>"
      ]
     },
     "metadata": {},
     "output_type": "display_data"
    },
    {
     "name": "stdout",
     "output_type": "stream",
     "text": [
      "Root mean squared of the lasso regression model : 93.892\n"
     ]
    }
   ],
   "source": [
    "# Lasso regression model with default value\n",
    "lasso= Lasso(alpha=1.0)\n",
    "lasso.fit(x_train,y_train)\n",
    "lasso_coef = lasso.fit(x_train, y_train).coef_\n",
    "names = x_df.columns\n",
    "y_pred = lasso.predict(x_test)\n",
    "rmse = np.round(mean_squared_error(y_test,y_pred, squared=False),3)\n",
    "plt.bar(names,lasso_coef)\n",
    "plt.xticks(rotation=90)\n",
    "plt.title('Selection of non-zero feature weights : 25 or 26')\n",
    "plt.xlabel('Features')\n",
    "plt.ylabel('Coefficients')\n",
    "plt.show()\n",
    "print('Root mean squared of the lasso regression model : {}'.format(rmse))"
   ]
  },
  {
   "cell_type": "code",
   "execution_count": null,
   "id": "7b345f73-8a4e-4fd7-bda6-df75626e955d",
   "metadata": {},
   "outputs": [],
   "source": []
  },
  {
   "cell_type": "code",
   "execution_count": null,
   "id": "b0c81389-938f-4dd1-ab67-f9ec54ebcbcf",
   "metadata": {},
   "outputs": [],
   "source": []
  }
 ],
 "metadata": {
  "kernelspec": {
   "display_name": "Python 3 (ipykernel)",
   "language": "python",
   "name": "python3"
  },
  "language_info": {
   "codemirror_mode": {
    "name": "ipython",
    "version": 3
   },
   "file_extension": ".py",
   "mimetype": "text/x-python",
   "name": "python",
   "nbconvert_exporter": "python",
   "pygments_lexer": "ipython3",
   "version": "3.11.7"
  }
 },
 "nbformat": 4,
 "nbformat_minor": 5
}
